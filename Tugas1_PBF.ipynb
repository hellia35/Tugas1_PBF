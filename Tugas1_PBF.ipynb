{
  "nbformat": 4,
  "nbformat_minor": 0,
  "metadata": {
    "colab": {
      "provenance": []
    },
    "kernelspec": {
      "name": "python3",
      "display_name": "Python 3"
    },
    "language_info": {
      "name": "python"
    }
  },
  "cells": [
    {
      "cell_type": "code",
      "execution_count": 1,
      "metadata": {
        "id": "FbPhubfx_cdB"
      },
      "outputs": [],
      "source": [
        "from functools import reduce"
      ]
    },
    {
      "cell_type": "code",
      "source": [
        "def encrypt_password(password):\n",
        "  ascii_values = [ors(char) for char in password] #Menukar msing-masing karaakter jadi ASCII value  \n",
        "  encrypt_values = [(chr((value//26)+80), chr(value%26+80), '+' if value//26 > value%26 else '-') for value in ascii_values]  #Menentukan value pertama, kedua & ketiga\n",
        "  encrypt_password = reduce(lambda acc, val: acc + val[0] + val[1] + val[2], encrypt_values, '')  #Menggabungkan\n",
        "  return encrypted_password\n",
        "  password = input(\"masukkan password: \")\n",
        "  encrypted_password = encrypt_password(password) #Mengenkripsi password yg diinput\n",
        "  print(\"password asli: \", password)\n",
        "  print(\"password terenkripsi: \", encrypted_password)"
      ],
      "metadata": {
        "id": "8-V-YZAs_uSQ"
      },
      "execution_count": 11,
      "outputs": []
    }
  ]
}